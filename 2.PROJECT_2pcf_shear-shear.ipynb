{
 "cells": [
  {
   "cell_type": "markdown",
   "metadata": {},
   "source": [
    "# WL Shear correlation functions $\\xi_\\pm(\\theta)$ (whole pipeline)\n",
    "#### from Takahashi simulations (maps as *.fits*)"
   ]
  },
  {
   "cell_type": "code",
   "execution_count": 1,
   "metadata": {},
   "outputs": [
    {
     "name": "stdout",
     "output_type": "stream",
     "text": [
      "/global/u2/r/rafamm97\n",
      "numpy version: 1.16.2\n"
     ]
    }
   ],
   "source": [
    "import numpy as np\n",
    "import healpy as hp\n",
    "import matplotlib.pyplot as plt\n",
    "import treecorr,time\n",
    "# import pickle\n",
    "import os\n",
    "print(os.getcwd())\n",
    "print(\"numpy version:\", np.__version__ )"
   ]
  },
  {
   "cell_type": "markdown",
   "metadata": {},
   "source": [
    "## Reading *.fits* maps\n",
    "\n",
    "Read a healpix map from a fits file. Partial-sky files, if properly identified, are expanded to full size and filled with UNSEEN"
   ]
  },
  {
   "cell_type": "markdown",
   "metadata": {},
   "source": [
    "# Defining angular coordinates\n",
    "\n",
    "#### Choosing the angular parameter $N_{side}$ as $2^{12}$ and defining the angular coordinates $\\theta, \\phi$ with the healpix function **pix2ang** which documentation is\n",
    "\n",
    "- healpy.pixelfunc.**pix2ang**(*nside, ipix*)\n",
    "- **Returns the coord.  theta, phi (floats) in radians corresponding to ipix, scalar or array-like**\n",
    "\n",
    "    **Parameters**\n",
    "    \n",
    "    nside: a healpix resolution parameter that must be a power of 2 ($<2^{30}$)\n",
    "    \n",
    "    ipix: Pixel indices"
   ]
  },
  {
   "cell_type": "markdown",
   "metadata": {},
   "source": [
    "## Reading *.fits* maps\n",
    "\n",
    "Read a healpix map from a fits file. Partial-sky files, if properly identified, are expanded to full size and filled with UNSEEN"
   ]
  },
  {
   "cell_type": "code",
   "execution_count": 2,
   "metadata": {},
   "outputs": [],
   "source": [
    "def function1(num_realization):\n",
    "    gamma1=hp.fitsfunc.read_map(filename = 'output_g1_' + str(num_realization) +'.fits')\n",
    "    gamma2=hp.fitsfunc.read_map(filename = 'output_g2_' + str(num_realization) +'.fits')\n",
    "\n",
    "    NSIDE = 4096   # angular resolution size\n",
    "\n",
    "    tht, phi = hp.pix2ang(nside = NSIDE, ipix = range(hp.nside2npix(NSIDE)))# in radians\n",
    "    # << hp.nside2npix >> gives the number of pixels for the given nside.\n",
    "    \n",
    "    if num_realization == 1:\n",
    "        print(len(tht))  # number of values/elements in theta array\n",
    "    \n",
    "    # Defining limit values of the angle in arcmin and its conversion to rad\n",
    "    minArcmin = 5.\n",
    "    maxArcmin = 200.\n",
    "\n",
    "    minRad = minArcmin*np.pi/60/180  # converting values to radian\n",
    "    maxRad = maxArcmin*np.pi/60/180\n",
    "    \n",
    "    if num_realization == 1:\n",
    "        print(\"Chosen angular limit values as: \\n \\n minRad={:.5}, maxRad={:.5}\".format(minRad,maxRad))\n",
    "\n",
    "    nInputSize = len(tht)       # defining size\n",
    "    nSample = int(nInputSize/2) # max is len(tht)    # two #theta for one sample\n",
    "    \n",
    "    if num_realization == 1:\n",
    "        print(\"Taking\", nSample, \"points out of\", nInputSize )\n",
    "\n",
    "    nDec, nRac, nG1, nG2 = [], [], [], []   # empty arrays to be filled w/ the Declin., right ascension and shear1,2\n",
    "\n",
    "    #rng = np.random.default_rng(2021)\n",
    "    #nii = rng.choice(len(tht), size=nSample, replace=False)\n",
    "\n",
    "    np.random.seed(2022)  # taking initial conditions in order to make random realizations 'reproducible'\n",
    "\n",
    "    # Choosin randomly unrepeated terms between (0 - nInputSize)\n",
    "    nii = np.random.choice(nInputSize, nSample, replace=False) # Which has the syntaxis: random.choice(a, size=None, replace=True)\n",
    "                                                             # where a random sample is generated as np.arange(0,a)\n",
    "\n",
    "    for ii in nii: \n",
    "        nDec.append(tht[ii])   # declination\n",
    "        nRac.append(phi[ii])   # right ascension\n",
    "        nG1.append(gamma1[ii]) # shear 1\n",
    "        nG2.append(gamma2[ii]) # shear 2\n",
    "\n",
    "    del tht, phi, gamma1, gamma2  # ereasing data (to reset)\n",
    "    return  nDec, nRac, nG1, nG2, nSample"
   ]
  },
  {
   "cell_type": "markdown",
   "metadata": {},
   "source": [
    "# *TreeCorr* implementation"
   ]
  },
  {
   "cell_type": "code",
   "execution_count": 3,
   "metadata": {},
   "outputs": [],
   "source": [
    "def function2(nDec,nRac,nG1,nG2,nSample,num_realization):\n",
    "    minArcmin = 5.\n",
    "    maxArcmin = 200.\n",
    "\n",
    "    minRad = minArcmin*np.pi/60/180  # converting values to radian\n",
    "    maxRad = maxArcmin*np.pi/60/180\n",
    "    \n",
    "    # Now using T r e e C o r r package to compute CF\n",
    "    \n",
    "    # building catalogue passing arrays for each piece of information\n",
    "    cat = treecorr.Catalog(\\\n",
    "        ra = nRac, dec=nDec, g1=nG1, g2=nG2, ra_units =\"rad\", dec_units =\"rad\") # catalogue defined\n",
    "\n",
    "    #cat = treecorr.Catalog(\\\n",
    "    #    ra=phi,dec=tht,g1=gamma1,g2=gamma2,ra_units=\"rad\",dec_units=\"rad\") # same with spherical coord. instead of celestial\n",
    "\n",
    "    # Now creating the GG correlation (shear - shear corr.)\n",
    "    GG = treecorr.GGCorrelation(min_sep=minRad, max_sep=maxRad, verbose=2, nbins=20)\n",
    "                     # where: min_sep - minimum separation being considered\n",
    "                     #        max_sep - analogous\n",
    "    \n",
    "    times = {}   # dictionary\n",
    "    \n",
    "    t1 = time.perf_counter()  # time in fractional seconds of a performance counter (***highest available resolution for short duration***)\n",
    "    GG.process(cat)\n",
    "    times[nSample] = round(time.perf_counter()-t1, ndigits = 4)\n",
    "    if num_realization ==1:\n",
    "        print(times)\n",
    "    return GG"
   ]
  },
  {
   "cell_type": "markdown",
   "metadata": {},
   "source": [
    "## Outputs"
   ]
  },
  {
   "cell_type": "code",
   "execution_count": 4,
   "metadata": {},
   "outputs": [],
   "source": [
    "def save_output(outputfilename, GG):\n",
    "    salida = np.zeros((len(GG.xim),4))   # array of zeros to be filled w/ \n",
    "    #print(salida)              # Prints \n",
    "    thtArr=np.array(GG.meanr)*60*180/np.pi\n",
    "    for ii in range(len(GG.xim)):\n",
    "        salida[ii,0] = thtArr[ii]\n",
    "        salida[ii,1] = GG.xip[ii] # 'plus' component\n",
    "        salida[ii,2] = GG.xim[ii] # 'minus' component\n",
    "        salida[ii,3] = GG.npairs[ii]\n",
    "\n",
    "    #print(salida) \n",
    "\n",
    "    #outputfilename='xi_pm.txt'\n",
    "\n",
    "    header = \"# 1.meanr  2.xi_plus  3.xi_minus  4.npairs\"\n",
    "\n",
    "    with open(outputfilename, 'a') as f:\n",
    "        f.write(header + \"\\n\")\n",
    "        np.savetxt(f, salida)\n",
    "        f.close"
   ]
  },
  {
   "cell_type": "markdown",
   "metadata": {},
   "source": [
    "# Execution\n",
    "Running modules (function) to create outputs with every single file"
   ]
  },
  {
   "cell_type": "code",
   "execution_count": 5,
   "metadata": {},
   "outputs": [
    {
     "name": "stdout",
     "output_type": "stream",
     "text": [
      "NSIDE = 4096\n",
      "ORDERING = RING in fits file\n",
      "INDXSCHM = IMPLICIT\n",
      "NSIDE = 4096\n",
      "ORDERING = RING in fits file\n",
      "INDXSCHM = IMPLICIT\n"
     ]
    },
    {
     "name": "stderr",
     "output_type": "stream",
     "text": [
      "nbins = 20, min,max sep = 0.00145444..0.0581776, bin_size = 0.184444\n",
      "varg = 0.000000: sig_sn (per component) = 0.000580\n",
      "Starting process GG auto-correlations\n",
      "Using 64 threads.\n",
      "Building GField\n",
      "Starting 85 jobs.\n"
     ]
    },
    {
     "name": "stdout",
     "output_type": "stream",
     "text": [
      "NSIDE = 4096\n",
      "ORDERING = RING in fits file\n",
      "INDXSCHM = IMPLICIT\n",
      "NSIDE = 4096\n",
      "ORDERING = RING in fits file\n",
      "INDXSCHM = IMPLICIT\n"
     ]
    },
    {
     "name": "stderr",
     "output_type": "stream",
     "text": [
      "nbins = 20, min,max sep = 0.00145444..0.0581776, bin_size = 0.184444\n",
      "varg = 0.000000: sig_sn (per component) = 0.000565\n",
      "Starting process GG auto-correlations\n",
      "Using 64 threads.\n",
      "Building GField\n",
      "Starting 85 jobs.\n"
     ]
    },
    {
     "name": "stdout",
     "output_type": "stream",
     "text": [
      "NSIDE = 4096\n",
      "ORDERING = RING in fits file\n",
      "INDXSCHM = IMPLICIT\n",
      "NSIDE = 4096\n",
      "ORDERING = RING in fits file\n",
      "INDXSCHM = IMPLICIT\n"
     ]
    },
    {
     "name": "stderr",
     "output_type": "stream",
     "text": [
      "nbins = 20, min,max sep = 0.00145444..0.0581776, bin_size = 0.184444\n",
      "varg = 0.000000: sig_sn (per component) = 0.000556\n",
      "Starting process GG auto-correlations\n",
      "Using 64 threads.\n",
      "Building GField\n",
      "Starting 85 jobs.\n"
     ]
    },
    {
     "name": "stdout",
     "output_type": "stream",
     "text": [
      "NSIDE = 4096\n",
      "ORDERING = RING in fits file\n",
      "INDXSCHM = IMPLICIT\n",
      "NSIDE = 4096\n",
      "ORDERING = RING in fits file\n",
      "INDXSCHM = IMPLICIT\n"
     ]
    },
    {
     "name": "stderr",
     "output_type": "stream",
     "text": [
      "nbins = 20, min,max sep = 0.00145444..0.0581776, bin_size = 0.184444\n",
      "varg = 0.000000: sig_sn (per component) = 0.000571\n",
      "Starting process GG auto-correlations\n",
      "Using 64 threads.\n",
      "Building GField\n",
      "Starting 85 jobs.\n"
     ]
    },
    {
     "name": "stdout",
     "output_type": "stream",
     "text": [
      "NSIDE = 4096\n",
      "ORDERING = RING in fits file\n",
      "INDXSCHM = IMPLICIT\n",
      "NSIDE = 4096\n",
      "ORDERING = RING in fits file\n",
      "INDXSCHM = IMPLICIT\n"
     ]
    },
    {
     "name": "stderr",
     "output_type": "stream",
     "text": [
      "nbins = 20, min,max sep = 0.00145444..0.0581776, bin_size = 0.184444\n",
      "varg = 0.000000: sig_sn (per component) = 0.000558\n",
      "Starting process GG auto-correlations\n",
      "Using 64 threads.\n",
      "Building GField\n",
      "Starting 85 jobs.\n"
     ]
    },
    {
     "name": "stdout",
     "output_type": "stream",
     "text": [
      "Time: 3118.0456602573395 s.\n",
      "output file will be xi_pm_i.txt,\n",
      " where i is the realization number from 0 to 107\n"
     ]
    }
   ],
   "source": [
    "start_time = time.time() # Computing time\n",
    "\n",
    "##### ******* Here you have to choose the total of realizations you want (range) *******\n",
    "\n",
    "for i in range(11,16): # from i=1 until i=109 for the 108 realizations in total (JUST ONE z each)\n",
    "    if i < 10:\n",
    "        outputfilename ='xi_pm_'+str(i)+\".txt\"\n",
    "        nDec, nRac, nG1,nG2, nS = function1(i)\n",
    "        GG = function2(nDec,nRac,nG1,nG2,nS,i)\n",
    "        #create_output(i, outputfilename)\n",
    "        save_output(outputfilename, GG)\n",
    "    if 10 <= i <= 99:\n",
    "        outputfilename ='xi_pm_'+str(i)+\".txt\"\n",
    "        nDec, nRac, nG1,nG2, nS = function1(i)\n",
    "        GG = function2(nDec,nRac,nG1,nG2,nS,i)\n",
    "        # create_output(i, outputfilename)\n",
    "        save_output(outputfilename, GG)\n",
    "\n",
    "end_time = time.time()\n",
    "print('Time:', end_time - start_time, 's.')    \n",
    "print('output file will be xi_pm_i.txt,\\n where i is the realization number from 0 to 107')"
   ]
  },
  {
   "cell_type": "markdown",
   "metadata": {},
   "source": [
    "# Plots ($\\theta \\xi_\\pm(\\theta)$)"
   ]
  },
  {
   "cell_type": "code",
   "execution_count": 8,
   "metadata": {},
   "outputs": [
    {
     "data": {
      "image/png": "[encoded data removed]",
      "text/plain": [
       "<Figure size 432x288 with 1 Axes>"
      ]
     },
     "metadata": {
      "needs_background": "light"
     },
     "output_type": "display_data"
    }
   ],
   "source": [
    "thtArr=np.array(GG.meanr)*60*180/np.pi\n",
    "\n",
    "#plt.figure(figsize=(10,8))\n",
    "fig = plt.figure();\n",
    "ax1 = fig.add_subplot(1, 1, 1)\n",
    "ax1.axis('equal')\n",
    "ax1.set_xscale('log')\n",
    "ax1.plot(thtArr,thtArr*GG.xip*10**4,linestyle=\"-\",c=\"b\",alpha=.6,label=\"$\\\\xi_+$\")\n",
    "ax1.plot(thtArr,thtArr*GG.xim*10**4,linestyle=\"-\",c=\"r\",alpha=.6,label=\"$\\\\xi_-$\")\n",
    "ax1.legend(frameon=False)\n",
    "ax1.set_ylabel(r\"$\\theta\\, \\xi_{\\pm}(\\theta) \\quad [10^{-4} \\, \\rm{arcmin}]$\", fontsize=14)\n",
    "ax1.set_xlabel(r\"$\\theta  \\quad [arcmin]$\", fontsize=14);\n",
    "plt.title(r'Last shear 2PCF (nres12r015_zs015) points=100663296') # assuming the last one, in our case just 15 realiz. were taken\n",
    "\n",
    "#plt.show();\n",
    "fig.savefig('nres12r015_zs015.png') #,dpi=150)"
   ]
  },
  {
   "cell_type": "markdown",
   "metadata": {},
   "source": [
    "# Covariance matrix\n",
    "\n",
    "This part of the nb computes the correlation and covariance of a data set o N files\n",
    "\n",
    "******* Putted in another nb *******"
   ]
  }
 ],
 "metadata": {
  "kernelspec": {
   "display_name": "desc-stack",
   "language": "python",
   "name": "desc-stack"
  },
  "language_info": {
   "codemirror_mode": {
    "name": "ipython",
    "version": 3
   },
   "file_extension": ".py",
   "mimetype": "text/x-python",
   "name": "python",
   "nbconvert_exporter": "python",
   "pygments_lexer": "ipython3",
   "version": "3.7.2"
  }
 },
 "nbformat": 4,
 "nbformat_minor": 4
}
